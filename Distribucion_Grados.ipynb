{
 "cells": [
  {
   "cell_type": "code",
   "execution_count": 1,
   "source": [
    "#Para crear y análizar redes\r\n",
    "import networkx as nx\r\n",
    "#Para leer desde un archivo\r\n",
    "import pandas as pd \r\n",
    "import collections"
   ],
   "outputs": [],
   "metadata": {}
  },
  {
   "cell_type": "code",
   "execution_count": 13,
   "source": [
    "for r in (1, 2):\r\n",
    "    regla = \"r\" + str(r)\r\n",
    "    for e in (1, 2, 4, 8, 16, 32):\r\n",
    "        enlace = \"enlaceD\" + str(e)\r\n",
    "        for exp in (1, 2, 3, 4, 5, 6, 7, 8, 9, 10):\r\n",
    "            experimento = \"experimento\" + str(exp)\r\n",
    "            nombre_grafo = regla + \"_\" + enlace + \"_\" + experimento + \"_ciclo30.graphml\"\r\n",
    "            ruta_grafo = \"graphs\\\\\" + regla + \"\\\\\" + enlace + \"\\\\\" + experimento + \"\\\\\" + nombre_grafo\r\n",
    "            grafo = nx.read_graphml(ruta_grafo)\r\n",
    "\r\n",
    "        # G R A D O \r\n",
    "            #Esta variable ordena todos los valores del segundo elemento, en este caso \"d\" por cada grado nodal\r\n",
    "            \r\n",
    "            valores0 = sorted((d for n, d in grafo.degree()), reverse=True)\r\n",
    "\r\n",
    "            dictionario = {\"Nodo\": range(1, 2500 + 1), \"Grado\": valores0}\r\n",
    "            pd.DataFrame(dictionario).to_csv('distribucion\\\\grado\\\\' + regla + \"_\" + enlace + \"_\" + experimento + '_grado.csv', index=False)\r\n",
    "            \r\n",
    "        # C E R C A N I A\r\n",
    "            cercania = nx.closeness_centrality(grafo)\r\n",
    "            valores = sorted(list(cercania.values()), reverse=True)\r\n",
    "\r\n",
    "            dictionario1 = {\"Nodo\": range(1, 2500 + 1), \"Grado\": valores}\r\n",
    "            pd.DataFrame(dictionario1).to_csv('distribucion\\\\cercania\\\\' + regla + \"_\" + enlace + \"_\" + experimento + '_cercania.csv', index=False)\r\n",
    "   \r\n",
    "        # A R M O N I C O\r\n",
    "            armonico = nx.harmonic_centrality(grafo)\r\n",
    "            valores_h = sorted(list(armonico.values()), reverse=True)\r\n",
    "\r\n",
    "            dictionario2 = {\"Nodo\": range(1, 2500 + 1), \"Grado\": valores_h}\r\n",
    "            pd.DataFrame(dictionario2).to_csv('distribucion\\\\armonico\\\\' + regla + \"_\" + enlace + \"_\" + experimento + '_armonico.csv', index=False)\r\n",
    "\r\n",
    "        # P A G E R A N K\r\n",
    "            pagerank = nx.pagerank(grafo)\r\n",
    "            valores_p = sorted(list(pagerank.values()), reverse=True)\r\n",
    "\r\n",
    "            dictionario3 = {\"Nodo\": range(1, 2500 + 1), \"Grado\": valores_p}\r\n",
    "            pd.DataFrame(dictionario3).to_csv('distribucion\\\\pagerank\\\\' + regla + \"_\" + enlace + \"_\" + experimento + '_pagerank.csv', index=False)\r\n",
    "\r\n",
    "        # I N T E R M E D I A C I O N\r\n",
    "            intermediacion = nx.betweenness_centrality(grafo)\r\n",
    "            valores_i = sorted(list(intermediacion.values()), reverse=True)\r\n",
    "\r\n",
    "            dictionario4 = {\"Nodo\": range(1, 2500 + 1), \"Grado\": valores_i}\r\n",
    "            pd.DataFrame(dictionario4).to_csv('distribucion\\\\intermediacion\\\\' + regla + \"_\" + enlace + \"_\" + experimento + '_intermediacion.csv', index=False)\r\n"
   ],
   "outputs": [],
   "metadata": {}
  },
  {
   "cell_type": "code",
   "execution_count": 30,
   "source": [
    "for r in (1, 2):\r\n",
    "    regla = \"r\" + str(r)\r\n",
    "    for e in (1, 2, 4, 8, 16, 32):\r\n",
    "        enlace = \"enlaceD\" + str(e)\r\n",
    "        for exp in (1, 2, 3, 4, 5, 6, 7, 8, 9, 10):\r\n",
    "            experimento = \"experimento\" + str(exp)\r\n",
    "            nombre_grafo = regla + \"_\" + enlace + \"_\" + experimento + \"_ciclo30.graphml\"\r\n",
    "            ruta_grafo = \"graphs\\\\\" + regla + \"\\\\\" + enlace + \"\\\\\" + experimento + \"\\\\\" + nombre_grafo\r\n",
    "            grafo = nx.read_graphml(ruta_grafo)\r\n",
    "        \r\n",
    "            tipo = [\"grado\", \"cercania\", \"armonico\", \"pagerank\", \"intermediacion\"]\r\n",
    "            for ataque in tipo:\r\n",
    "                if tipo[0] == ataque:\r\n",
    "                    valores = sorted((d for n, d in grafo.degree()), reverse=True)\r\n",
    "                elif tipo[1] == ataque:\r\n",
    "                    centralidad = nx.closeness_centrality(grafo)\r\n",
    "                    #valores = sorted(list(centralidad.values()), reverse=True)\r\n",
    "                elif tipo[2] == ataque:\r\n",
    "                    centralidad = nx.harmonic_centrality(grafo)\r\n",
    "                    #valores = sorted(list(centralidad.values()), reverse=True)\r\n",
    "                elif tipo[3] == ataque:\r\n",
    "                    centralidad = nx.pagerank(grafo)\r\n",
    "                    #valores = sorted(list(centralidad.values()), reverse=True) \r\n",
    "                elif tipo[4] == ataque:\r\n",
    "                    centralidad = nx.betweenness_centrality(grafo)\r\n",
    "                    #valores = sorted(list(centralidad.values()), reverse=True)\r\n",
    "                if ataque == \"cercania\" or tipo ==\"armonico\" or tipo == \"pagerank\" or tipo == \"intermediacion\":\r\n",
    "                    valores = sorted(list(centralidad.values()), reverse=True)\r\n",
    "                \r\n",
    "                dictionario = {\"Nodo\": range(1, 2500 + 1), \"Grado\": valores}\r\n",
    "                pd.DataFrame(dictionario).to_csv('distribucion2\\\\' + ataque + '\\\\' + regla + \"_\" + enlace + \"_\" + experimento + '_' + ataque + '.csv', index=False)"
   ],
   "outputs": [],
   "metadata": {}
  }
 ],
 "metadata": {
  "interpreter": {
   "hash": "6d46af94c2bbce495f1e668725902fa517c90b1782bcfe2fce0dd9868df553d3"
  },
  "kernelspec": {
   "name": "python3",
   "display_name": "Python 3.8.11 64-bit ('base': conda)"
  },
  "language_info": {
   "codemirror_mode": {
    "name": "ipython",
    "version": 3
   },
   "file_extension": ".py",
   "mimetype": "text/x-python",
   "name": "python",
   "nbconvert_exporter": "python",
   "pygments_lexer": "ipython3",
   "version": "3.8.11"
  }
 },
 "nbformat": 4,
 "nbformat_minor": 5
}